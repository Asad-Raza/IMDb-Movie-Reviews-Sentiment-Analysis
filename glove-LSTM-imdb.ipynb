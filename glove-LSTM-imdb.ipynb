{
 "cells": [
  {
   "cell_type": "code",
   "execution_count": 1,
   "metadata": {},
   "outputs": [
    {
     "name": "stderr",
     "output_type": "stream",
     "text": [
      "C:\\ProgramData\\Anaconda3\\lib\\site-packages\\h5py\\__init__.py:36: FutureWarning: Conversion of the second argument of issubdtype from `float` to `np.floating` is deprecated. In future, it will be treated as `np.float64 == np.dtype(float).type`.\n",
      "  from ._conv import register_converters as _register_converters\n",
      "Using TensorFlow backend.\n"
     ]
    }
   ],
   "source": [
    "import numpy as np \n",
    "import pandas as pd \n",
    "import nltk\n",
    "import os\n",
    "import gc\n",
    "from keras.preprocessing import sequence,text\n",
    "from keras.preprocessing.text import Tokenizer\n",
    "from keras.models import Sequential\n",
    "from keras.layers import Dense,Dropout,Embedding,LSTM,Conv1D,GlobalMaxPooling1D,Flatten,MaxPooling1D,GRU,SpatialDropout1D,Bidirectional\n",
    "from keras.callbacks import EarlyStopping\n",
    "from keras.layers import CuDNNLSTM,RNN\n",
    "from keras.utils import to_categorical\n",
    "from keras.losses import categorical_crossentropy\n",
    "from keras.optimizers import Adam\n",
    "from sklearn.model_selection import train_test_split\n",
    "from sklearn.metrics import accuracy_score,confusion_matrix,classification_report,f1_score\n",
    "import matplotlib.pyplot as plt\n",
    "import warnings\n",
    "warnings.filterwarnings(\"ignore\")\n",
    "#pd.set_option('display.max_colwidth',100)\n",
    "pd.set_option('display.max_colwidth', -1)\n",
    "\n",
    "from nltk.tokenize import word_tokenize\n",
    "from nltk import FreqDist\n",
    "from nltk.stem import SnowballStemmer,WordNetLemmatizer\n",
    "stemmer=SnowballStemmer('english')\n",
    "lemma=WordNetLemmatizer()\n",
    "from string import punctuation\n",
    "import re"
   ]
  },
  {
   "cell_type": "code",
   "execution_count": 2,
   "metadata": {},
   "outputs": [],
   "source": [
    "path = \"aclimdb/\"\n",
    "positiveFiles = [x for x in os.listdir(path+\"train/pos/\") if x.endswith(\".txt\")]\n",
    "negativeFiles = [x for x in os.listdir(path+\"train/neg/\") if x.endswith(\".txt\")]\n",
    "#testFiles = [x for x in os.listdir(path+\"test/\") if x.endswith(\".txt\")]"
   ]
  },
  {
   "cell_type": "code",
   "execution_count": 3,
   "metadata": {},
   "outputs": [],
   "source": [
    "positiveReviews, negativeReviews, testReviews = [], [], []\n",
    "for pfile in positiveFiles:\n",
    "    with open(path+\"train/pos/\"+pfile, encoding=\"latin1\") as f:\n",
    "        positiveReviews.append(f.read())\n",
    "for nfile in negativeFiles:\n",
    "    with open(path+\"train/neg/\"+nfile, encoding=\"latin1\") as f:\n",
    "        negativeReviews.append(f.read())\n",
    "#for tfile in testFiles:\n",
    "#    with open(path+\"test/\"+tfile, encoding=\"latin1\") as f:\n",
    "#        testReviews.append(f.read())"
   ]
  },
  {
   "cell_type": "code",
   "execution_count": 4,
   "metadata": {},
   "outputs": [
    {
     "data": {
      "text/html": [
       "<div>\n",
       "<style scoped>\n",
       "    .dataframe tbody tr th:only-of-type {\n",
       "        vertical-align: middle;\n",
       "    }\n",
       "\n",
       "    .dataframe tbody tr th {\n",
       "        vertical-align: top;\n",
       "    }\n",
       "\n",
       "    .dataframe thead th {\n",
       "        text-align: right;\n",
       "    }\n",
       "</style>\n",
       "<table border=\"1\" class=\"dataframe\">\n",
       "  <thead>\n",
       "    <tr style=\"text-align: right;\">\n",
       "      <th></th>\n",
       "      <th>file</th>\n",
       "      <th>label</th>\n",
       "      <th>review</th>\n",
       "    </tr>\n",
       "  </thead>\n",
       "  <tbody>\n",
       "    <tr>\n",
       "      <th>21492</th>\n",
       "      <td>6844_1.txt</td>\n",
       "      <td>0</td>\n",
       "      <td>I have copy of this on VHS, I think they (The television networks) should play this every year for the next twenty years. So that we don't forget what was and that we remember not to do the same mistakes again. Like putting some people in the director's chair, where they don't belong. This movie Rappin' is like a vaudevillian musical, for those who can't sing, or act. This movie is as much fun as trying to teach the 'blind' to drive a city bus.&lt;br /&gt;&lt;br /&gt;John Hood, (Peebles) has just got out of prison and he's headed back to the old neighborhood. In serving time for an all-to-nice crime of necessity, of course. John heads back onto the old street and is greeted by kids dogs old ladies and his peer homeys as they dance and sing all along the way.&lt;br /&gt;&lt;br /&gt;I would recommend this if I was sentimental, or if in truth someone was smoking medicinal pot prescribed by a doctor for glaucoma. Either way this is a poorly directed, scripted, acted and even produced (I never thought I'd sat that) satire of ghetto life with the 'Hood'. Although, I think the redeeming part of the story, through the wannabe gang fight sequences and the dance numbers, his friends care about their neighbors and want to save the ghetto from being torn down and cleaned up. &lt;br /&gt;&lt;br /&gt;Forget Sonny spoon, Mario could have won an Oscar for that in comparison to this Rap. Oh well if you find yourself wanting to laugh yourself silly and three-quarters embarrassed, be sure to drink first. &lt;br /&gt;&lt;br /&gt;And please, watch responsibly. (No stars, better luck next time!)</td>\n",
       "    </tr>\n",
       "    <tr>\n",
       "      <th>9488</th>\n",
       "      <td>7290_10.txt</td>\n",
       "      <td>1</td>\n",
       "      <td>After several extremely well ratings to the point of SUPERB, I was extremely pleased with the film. The film was dark, moving, the anger, the pain, the guilt and a very extremely convincing demon.&lt;br /&gt;&lt;br /&gt;I had initially expected to see many special effects, and like a lover's caress, it blew me away with the subtlety and the rightness of it. Brian, I am again blown away with your artistry with the telling of the story and your care of the special effects. You will go a long way, my friend. I will definitely be the president of your fan club.&lt;br /&gt;&lt;br /&gt;Eric Etebari, the best actor award, was the number one choice. You made Jr. Lopez look like a child compared to Kasadya. :) &lt;br /&gt;&lt;br /&gt;Overall, the acting, story line, the high quality filming and awesome effects, it was fantastic. I just wish it were longer. I am looking forward to The Dreamless with extremely high expectations.</td>\n",
       "    </tr>\n",
       "    <tr>\n",
       "      <th>16933</th>\n",
       "      <td>2740_1.txt</td>\n",
       "      <td>0</td>\n",
       "      <td>I still don't know why I forced myself to sit through the whole thing. This \"film\" wasn't worth the Memorex DVD-R it was burned on; I thought I was watching the end result of a group of middle schoolers stealing their parents' camcorder. This is by far the worst movie ever made. I truly, from the bottom of my heart, want to sue Aaron Yamasato for the two hours he stole from my life.&lt;br /&gt;&lt;br /&gt;So apparently, it's supposed to be bad on purpose; However, if you should end up in Hell and are forced to watch this 90-minute coil of doo-doo, you'll see that Yamasato is really trying hard to make an awesome flick. The actors attempt dramatic kick-ass performances comparable to Crimson Tide but come closer to The Marine.&lt;br /&gt;&lt;br /&gt;The crap acting is just the tip of the iceberg. The camera angles are awful. The story is C-movie at best-- the plot isn't even good enough to be considered B-movie caliber. The dialogue attempts to be dynamic and witty, but is crap like everything else. Rumor has it that a hard copy of the screenplay actually attracts flies. Plus, the techno score is annoying... not because it's techno, but because it's NON-STOP. That's right, the music plays in the background THE WHOLE TIME, acting as a subliminal reminder of how bad this thing is. I don't care what the disclaimer claims, I don't buy it. BOTS was not made this bad on purpose, because it takes itself WAY too serious for what it was: a joke.&lt;br /&gt;&lt;br /&gt;This \"film\" was very low-budget. But that is no excuse for its record-setting suck factor. Great films are born of substance, not budget. BOTS had neither.&lt;br /&gt;&lt;br /&gt;Allow me to further articulate the overwhelming power of this 90-minute waste of time: if I were having a three-way with Jessica Alba and Jessica Biel in front of a TV and Blood of the Samurai came on, I'd be out of there quicker than Steven Seagal in Executive Decision.&lt;br /&gt;&lt;br /&gt;Undoubtedly, some people will try to defend the movie. Two, maybe three. They'll say, \"it's grindhouse chop-socky!\" or \"cheesy in a good way!\" or \"it's so bad, it's good!\" Those people are idiots. A movie is either good, or it's bad. There's no such thing as a good bad movie. But there ARE such things as idiots that like crappy movies. Don't get me wrong; there are lots of cornball not-to-be-taken-seriously movies out there that are enjoyable and entertaining. Slither is one. BOTS is not.&lt;br /&gt;&lt;br /&gt;This suckfest runs about an hour and a half, and in my humble opinion, it's 90 minutes too long. The best thing about this \"film\" is the DVD cover, so next time you're near the Wal-Mart DVD bargain bin, take a look at it-- DON'T TOUCH IT, just look-- and quietly walk away.</td>\n",
       "    </tr>\n",
       "    <tr>\n",
       "      <th>12604</th>\n",
       "      <td>10094_1.txt</td>\n",
       "      <td>0</td>\n",
       "      <td>Mt little sister and I are self-proclaimed horror movie buffs. We have seen just about EVERYTHING, especially zombie flicks. Now, we have seen a lot of good zombie movies, and a lot of bad ones. This BY FAR is the WORST movie I have ever seen in my entire life. Not only was the acting horrible, but the special effects, graphics and ever \"zombie\" make-up was the worst I have seen. If you can even call it make-up ( black eye shadow around the eyes) This is totally proof that you should never judge a book by it's cover. Cause the cover to the movie is the only sweet thing about. do your selves a favor and DO NOT WATCH THIS MOVIE!!!!!!!!!!!!!!!!!! I was so adamant about this movie I went as far as putting a sticky note on the inside of the movie before i returned it to movie saying \"This movie sucks, don't waste your time, return NOW\" hahahhaa I don't want anyone else to waste a good movie night on this POS movie! i don't even know how it got the ratings that it did, t should be in the negative</td>\n",
       "    </tr>\n",
       "    <tr>\n",
       "      <th>8222</th>\n",
       "      <td>6150_7.txt</td>\n",
       "      <td>1</td>\n",
       "      <td>I have personally seen many Disney movies in my lifetime, though absolutely none of them match up in any way to Bedknobs and Broomsticks. Although I personally wouldn't have crossed live-action with animation, it was an improvement on trying to dress people up as animation characters. The movie pits three evacuees from world war two who are sent to stay with a silent and socially awkward woman in the country. I would have to say that the casting was brilliant. Angela Landsbury made a perfect Miss Price, while David Thomilson made a great desperate entertainer love interest. Endings always surprise me and this was no exception. It was neither happy nor sad, though I do not know if this was intentional. The dialog wasn't great, but considering it was designed to be a kid's movie, that is alright. Overall, I would give the performance nine out of ten, the dialog six out of ten, the casting nine out of ten and the costumes eight out of ten.</td>\n",
       "    </tr>\n",
       "  </tbody>\n",
       "</table>\n",
       "</div>"
      ],
      "text/plain": [
       "              file  label  \\\n",
       "21492  6844_1.txt   0       \n",
       "9488   7290_10.txt  1       \n",
       "16933  2740_1.txt   0       \n",
       "12604  10094_1.txt  0       \n",
       "8222   6150_7.txt   1       \n",
       "\n",
       "                                                                                                                                                                                                                                                                                                                                                                                                                                                                                                                                                                                                                                                                                                                                                                                                                                                                                                                                                                                                                                                                                                                                                                                                                                                                                                                                                                                                                                                                                                                                                                                                                                                                                                                                                                                                                                                                                                                                                                                                                                                                                                                                                                                                                                                                                                                                                                                                                                                                                                                                                                                                                                                                                                                                                                                   review  \n",
       "21492  I have copy of this on VHS, I think they (The television networks) should play this every year for the next twenty years. So that we don't forget what was and that we remember not to do the same mistakes again. Like putting some people in the director's chair, where they don't belong. This movie Rappin' is like a vaudevillian musical, for those who can't sing, or act. This movie is as much fun as trying to teach the 'blind' to drive a city bus.<br /><br />John Hood, (Peebles) has just got out of prison and he's headed back to the old neighborhood. In serving time for an all-to-nice crime of necessity, of course. John heads back onto the old street and is greeted by kids dogs old ladies and his peer homeys as they dance and sing all along the way.<br /><br />I would recommend this if I was sentimental, or if in truth someone was smoking medicinal pot prescribed by a doctor for glaucoma. Either way this is a poorly directed, scripted, acted and even produced (I never thought I'd sat that) satire of ghetto life with the 'Hood'. Although, I think the redeeming part of the story, through the wannabe gang fight sequences and the dance numbers, his friends care about their neighbors and want to save the ghetto from being torn down and cleaned up. <br /><br />Forget Sonny spoon, Mario could have won an Oscar for that in comparison to this Rap. Oh well if you find yourself wanting to laugh yourself silly and three-quarters embarrassed, be sure to drink first. <br /><br />And please, watch responsibly. (No stars, better luck next time!)                                                                                                                                                                                                                                                                                                                                                                                                                                                                                                                                                                                                                                                                                                                                                                                                                                                                                                                                                                                                                                                                                                                                                                    \n",
       "9488   After several extremely well ratings to the point of SUPERB, I was extremely pleased with the film. The film was dark, moving, the anger, the pain, the guilt and a very extremely convincing demon.<br /><br />I had initially expected to see many special effects, and like a lover's caress, it blew me away with the subtlety and the rightness of it. Brian, I am again blown away with your artistry with the telling of the story and your care of the special effects. You will go a long way, my friend. I will definitely be the president of your fan club.<br /><br />Eric Etebari, the best actor award, was the number one choice. You made Jr. Lopez look like a child compared to Kasadya. :) <br /><br />Overall, the acting, story line, the high quality filming and awesome effects, it was fantastic. I just wish it were longer. I am looking forward to The Dreamless with extremely high expectations.                                                                                                                                                                                                                                                                                                                                                                                                                                                                                                                                                                                                                                                                                                                                                                                                                                                                                                                                                                                                                                                                                                                                                                                                                                                                                                                                                                                                                                                                                                                                                                                                                                                                                                                                                                                                                                                     \n",
       "16933  I still don't know why I forced myself to sit through the whole thing. This \"film\" wasn't worth the Memorex DVD-R it was burned on; I thought I was watching the end result of a group of middle schoolers stealing their parents' camcorder. This is by far the worst movie ever made. I truly, from the bottom of my heart, want to sue Aaron Yamasato for the two hours he stole from my life.<br /><br />So apparently, it's supposed to be bad on purpose; However, if you should end up in Hell and are forced to watch this 90-minute coil of doo-doo, you'll see that Yamasato is really trying hard to make an awesome flick. The actors attempt dramatic kick-ass performances comparable to Crimson Tide but come closer to The Marine.<br /><br />The crap acting is just the tip of the iceberg. The camera angles are awful. The story is C-movie at best-- the plot isn't even good enough to be considered B-movie caliber. The dialogue attempts to be dynamic and witty, but is crap like everything else. Rumor has it that a hard copy of the screenplay actually attracts flies. Plus, the techno score is annoying... not because it's techno, but because it's NON-STOP. That's right, the music plays in the background THE WHOLE TIME, acting as a subliminal reminder of how bad this thing is. I don't care what the disclaimer claims, I don't buy it. BOTS was not made this bad on purpose, because it takes itself WAY too serious for what it was: a joke.<br /><br />This \"film\" was very low-budget. But that is no excuse for its record-setting suck factor. Great films are born of substance, not budget. BOTS had neither.<br /><br />Allow me to further articulate the overwhelming power of this 90-minute waste of time: if I were having a three-way with Jessica Alba and Jessica Biel in front of a TV and Blood of the Samurai came on, I'd be out of there quicker than Steven Seagal in Executive Decision.<br /><br />Undoubtedly, some people will try to defend the movie. Two, maybe three. They'll say, \"it's grindhouse chop-socky!\" or \"cheesy in a good way!\" or \"it's so bad, it's good!\" Those people are idiots. A movie is either good, or it's bad. There's no such thing as a good bad movie. But there ARE such things as idiots that like crappy movies. Don't get me wrong; there are lots of cornball not-to-be-taken-seriously movies out there that are enjoyable and entertaining. Slither is one. BOTS is not.<br /><br />This suckfest runs about an hour and a half, and in my humble opinion, it's 90 minutes too long. The best thing about this \"film\" is the DVD cover, so next time you're near the Wal-Mart DVD bargain bin, take a look at it-- DON'T TOUCH IT, just look-- and quietly walk away.  \n",
       "12604  Mt little sister and I are self-proclaimed horror movie buffs. We have seen just about EVERYTHING, especially zombie flicks. Now, we have seen a lot of good zombie movies, and a lot of bad ones. This BY FAR is the WORST movie I have ever seen in my entire life. Not only was the acting horrible, but the special effects, graphics and ever \"zombie\" make-up was the worst I have seen. If you can even call it make-up ( black eye shadow around the eyes) This is totally proof that you should never judge a book by it's cover. Cause the cover to the movie is the only sweet thing about. do your selves a favor and DO NOT WATCH THIS MOVIE!!!!!!!!!!!!!!!!!! I was so adamant about this movie I went as far as putting a sticky note on the inside of the movie before i returned it to movie saying \"This movie sucks, don't waste your time, return NOW\" hahahhaa I don't want anyone else to waste a good movie night on this POS movie! i don't even know how it got the ratings that it did, t should be in the negative                                                                                                                                                                                                                                                                                                                                                                                                                                                                                                                                                                                                                                                                                                                                                                                                                                                                                                                                                                                                                                                                                                                                                                                                                                                                                                                                                                                                                                                                                                                                                                                                                                                                                                                                       \n",
       "8222   I have personally seen many Disney movies in my lifetime, though absolutely none of them match up in any way to Bedknobs and Broomsticks. Although I personally wouldn't have crossed live-action with animation, it was an improvement on trying to dress people up as animation characters. The movie pits three evacuees from world war two who are sent to stay with a silent and socially awkward woman in the country. I would have to say that the casting was brilliant. Angela Landsbury made a perfect Miss Price, while David Thomilson made a great desperate entertainer love interest. Endings always surprise me and this was no exception. It was neither happy nor sad, though I do not know if this was intentional. The dialog wasn't great, but considering it was designed to be a kid's movie, that is alright. Overall, I would give the performance nine out of ten, the dialog six out of ten, the casting nine out of ten and the costumes eight out of ten.                                                                                                                                                                                                                                                                                                                                                                                                                                                                                                                                                                                                                                                                                                                                                                                                                                                                                                                                                                                                                                                                                                                                                                                                                                                                                                                                                                                                                                                                                                                                                                                                                                                                                                                                                                                              "
      ]
     },
     "execution_count": 4,
     "metadata": {},
     "output_type": "execute_result"
    }
   ],
   "source": [
    "reviews = pd.concat([\n",
    "    pd.DataFrame({\"review\":positiveReviews, \"label\":1, \"file\":positiveFiles}),\n",
    "    pd.DataFrame({\"review\":negativeReviews, \"label\":0, \"file\":negativeFiles}),\n",
    "    #pd.DataFrame({\"review\":testReviews, \"label\":-1, \"file\":testFiles})\n",
    "], ignore_index=True).sample(frac=1, random_state=1)\n",
    "reviews.head()"
   ]
  },
  {
   "cell_type": "code",
   "execution_count": 5,
   "metadata": {},
   "outputs": [],
   "source": [
    "def clean_review(review_col):\n",
    "    review_corpus=[]\n",
    "    for i in range(0,len(review_col)):\n",
    "        review=str(review_col[i])\n",
    "        review=re.sub('[^a-zA-Z]',' ',review)\n",
    "        #review=[stemmer.stem(w) for w in word_tokenize(str(review).lower())]\n",
    "        review=[lemma.lemmatize(w) for w in word_tokenize(str(review).lower())]\n",
    "        review=' '.join(review)\n",
    "        review_corpus.append(review)\n",
    "    return review_corpus"
   ]
  },
  {
   "cell_type": "code",
   "execution_count": 6,
   "metadata": {},
   "outputs": [
    {
     "data": {
      "text/html": [
       "<div>\n",
       "<style scoped>\n",
       "    .dataframe tbody tr th:only-of-type {\n",
       "        vertical-align: middle;\n",
       "    }\n",
       "\n",
       "    .dataframe tbody tr th {\n",
       "        vertical-align: top;\n",
       "    }\n",
       "\n",
       "    .dataframe thead th {\n",
       "        text-align: right;\n",
       "    }\n",
       "</style>\n",
       "<table border=\"1\" class=\"dataframe\">\n",
       "  <thead>\n",
       "    <tr style=\"text-align: right;\">\n",
       "      <th></th>\n",
       "      <th>file</th>\n",
       "      <th>label</th>\n",
       "      <th>review</th>\n",
       "      <th>clean_review</th>\n",
       "    </tr>\n",
       "  </thead>\n",
       "  <tbody>\n",
       "    <tr>\n",
       "      <th>21492</th>\n",
       "      <td>6844_1.txt</td>\n",
       "      <td>0</td>\n",
       "      <td>I have copy of this on VHS, I think they (The television networks) should play this every year for the next twenty years. So that we don't forget what was and that we remember not to do the same mistakes again. Like putting some people in the director's chair, where they don't belong. This movie Rappin' is like a vaudevillian musical, for those who can't sing, or act. This movie is as much fun as trying to teach the 'blind' to drive a city bus.&lt;br /&gt;&lt;br /&gt;John Hood, (Peebles) has just got out of prison and he's headed back to the old neighborhood. In serving time for an all-to-nice crime of necessity, of course. John heads back onto the old street and is greeted by kids dogs old ladies and his peer homeys as they dance and sing all along the way.&lt;br /&gt;&lt;br /&gt;I would recommend this if I was sentimental, or if in truth someone was smoking medicinal pot prescribed by a doctor for glaucoma. Either way this is a poorly directed, scripted, acted and even produced (I never thought I'd sat that) satire of ghetto life with the 'Hood'. Although, I think the redeeming part of the story, through the wannabe gang fight sequences and the dance numbers, his friends care about their neighbors and want to save the ghetto from being torn down and cleaned up. &lt;br /&gt;&lt;br /&gt;Forget Sonny spoon, Mario could have won an Oscar for that in comparison to this Rap. Oh well if you find yourself wanting to laugh yourself silly and three-quarters embarrassed, be sure to drink first. &lt;br /&gt;&lt;br /&gt;And please, watch responsibly. (No stars, better luck next time!)</td>\n",
       "      <td>i have copy of this on vhs i think they the television network should play this every year for the next twenty year so that we don t forget what wa and that we remember not to do the same mistake again like putting some people in the director s chair where they don t belong this movie rappin is like a vaudevillian musical for those who can t sing or act this movie is a much fun a trying to teach the blind to drive a city bus br br john hood peebles ha just got out of prison and he s headed back to the old neighborhood in serving time for an all to nice crime of necessity of course john head back onto the old street and is greeted by kid dog old lady and his peer homeys a they dance and sing all along the way br br i would recommend this if i wa sentimental or if in truth someone wa smoking medicinal pot prescribed by a doctor for glaucoma either way this is a poorly directed scripted acted and even produced i never thought i d sat that satire of ghetto life with the hood although i think the redeeming part of the story through the wannabe gang fight sequence and the dance number his friend care about their neighbor and want to save the ghetto from being torn down and cleaned up br br forget sonny spoon mario could have won an oscar for that in comparison to this rap oh well if you find yourself wanting to laugh yourself silly and three quarter embarrassed be sure to drink first br br and please watch responsibly no star better luck next time</td>\n",
       "    </tr>\n",
       "    <tr>\n",
       "      <th>9488</th>\n",
       "      <td>7290_10.txt</td>\n",
       "      <td>1</td>\n",
       "      <td>After several extremely well ratings to the point of SUPERB, I was extremely pleased with the film. The film was dark, moving, the anger, the pain, the guilt and a very extremely convincing demon.&lt;br /&gt;&lt;br /&gt;I had initially expected to see many special effects, and like a lover's caress, it blew me away with the subtlety and the rightness of it. Brian, I am again blown away with your artistry with the telling of the story and your care of the special effects. You will go a long way, my friend. I will definitely be the president of your fan club.&lt;br /&gt;&lt;br /&gt;Eric Etebari, the best actor award, was the number one choice. You made Jr. Lopez look like a child compared to Kasadya. :) &lt;br /&gt;&lt;br /&gt;Overall, the acting, story line, the high quality filming and awesome effects, it was fantastic. I just wish it were longer. I am looking forward to The Dreamless with extremely high expectations.</td>\n",
       "      <td>after several extremely well rating to the point of superb i wa extremely pleased with the film the film wa dark moving the anger the pain the guilt and a very extremely convincing demon br br i had initially expected to see many special effect and like a lover s caress it blew me away with the subtlety and the rightness of it brian i am again blown away with your artistry with the telling of the story and your care of the special effect you will go a long way my friend i will definitely be the president of your fan club br br eric etebari the best actor award wa the number one choice you made jr lopez look like a child compared to kasadya br br overall the acting story line the high quality filming and awesome effect it wa fantastic i just wish it were longer i am looking forward to the dreamless with extremely high expectation</td>\n",
       "    </tr>\n",
       "    <tr>\n",
       "      <th>16933</th>\n",
       "      <td>2740_1.txt</td>\n",
       "      <td>0</td>\n",
       "      <td>I still don't know why I forced myself to sit through the whole thing. This \"film\" wasn't worth the Memorex DVD-R it was burned on; I thought I was watching the end result of a group of middle schoolers stealing their parents' camcorder. This is by far the worst movie ever made. I truly, from the bottom of my heart, want to sue Aaron Yamasato for the two hours he stole from my life.&lt;br /&gt;&lt;br /&gt;So apparently, it's supposed to be bad on purpose; However, if you should end up in Hell and are forced to watch this 90-minute coil of doo-doo, you'll see that Yamasato is really trying hard to make an awesome flick. The actors attempt dramatic kick-ass performances comparable to Crimson Tide but come closer to The Marine.&lt;br /&gt;&lt;br /&gt;The crap acting is just the tip of the iceberg. The camera angles are awful. The story is C-movie at best-- the plot isn't even good enough to be considered B-movie caliber. The dialogue attempts to be dynamic and witty, but is crap like everything else. Rumor has it that a hard copy of the screenplay actually attracts flies. Plus, the techno score is annoying... not because it's techno, but because it's NON-STOP. That's right, the music plays in the background THE WHOLE TIME, acting as a subliminal reminder of how bad this thing is. I don't care what the disclaimer claims, I don't buy it. BOTS was not made this bad on purpose, because it takes itself WAY too serious for what it was: a joke.&lt;br /&gt;&lt;br /&gt;This \"film\" was very low-budget. But that is no excuse for its record-setting suck factor. Great films are born of substance, not budget. BOTS had neither.&lt;br /&gt;&lt;br /&gt;Allow me to further articulate the overwhelming power of this 90-minute waste of time: if I were having a three-way with Jessica Alba and Jessica Biel in front of a TV and Blood of the Samurai came on, I'd be out of there quicker than Steven Seagal in Executive Decision.&lt;br /&gt;&lt;br /&gt;Undoubtedly, some people will try to defend the movie. Two, maybe three. They'll say, \"it's grindhouse chop-socky!\" or \"cheesy in a good way!\" or \"it's so bad, it's good!\" Those people are idiots. A movie is either good, or it's bad. There's no such thing as a good bad movie. But there ARE such things as idiots that like crappy movies. Don't get me wrong; there are lots of cornball not-to-be-taken-seriously movies out there that are enjoyable and entertaining. Slither is one. BOTS is not.&lt;br /&gt;&lt;br /&gt;This suckfest runs about an hour and a half, and in my humble opinion, it's 90 minutes too long. The best thing about this \"film\" is the DVD cover, so next time you're near the Wal-Mart DVD bargain bin, take a look at it-- DON'T TOUCH IT, just look-- and quietly walk away.</td>\n",
       "      <td>i still don t know why i forced myself to sit through the whole thing this film wasn t worth the memorex dvd r it wa burned on i thought i wa watching the end result of a group of middle schoolers stealing their parent camcorder this is by far the worst movie ever made i truly from the bottom of my heart want to sue aaron yamasato for the two hour he stole from my life br br so apparently it s supposed to be bad on purpose however if you should end up in hell and are forced to watch this minute coil of doo doo you ll see that yamasato is really trying hard to make an awesome flick the actor attempt dramatic kick as performance comparable to crimson tide but come closer to the marine br br the crap acting is just the tip of the iceberg the camera angle are awful the story is c movie at best the plot isn t even good enough to be considered b movie caliber the dialogue attempt to be dynamic and witty but is crap like everything else rumor ha it that a hard copy of the screenplay actually attracts fly plus the techno score is annoying not because it s techno but because it s non stop that s right the music play in the background the whole time acting a a subliminal reminder of how bad this thing is i don t care what the disclaimer claim i don t buy it bot wa not made this bad on purpose because it take itself way too serious for what it wa a joke br br this film wa very low budget but that is no excuse for it record setting suck factor great film are born of substance not budget bot had neither br br allow me to further articulate the overwhelming power of this minute waste of time if i were having a three way with jessica alba and jessica biel in front of a tv and blood of the samurai came on i d be out of there quicker than steven seagal in executive decision br br undoubtedly some people will try to defend the movie two maybe three they ll say it s grindhouse chop socky or cheesy in a good way or it s so bad it s good those people are idiot a movie is either good or it s bad there s no such thing a a good bad movie but there are such thing a idiot that like crappy movie don t get me wrong there are lot of cornball not to be taken seriously movie out there that are enjoyable and entertaining slither is one bot is not br br this suckfest run about an hour and a half and in my humble opinion it s minute too long the best thing about this film is the dvd cover so next time you re near the wal mart dvd bargain bin take a look at it don t touch it just look and quietly walk away</td>\n",
       "    </tr>\n",
       "    <tr>\n",
       "      <th>12604</th>\n",
       "      <td>10094_1.txt</td>\n",
       "      <td>0</td>\n",
       "      <td>Mt little sister and I are self-proclaimed horror movie buffs. We have seen just about EVERYTHING, especially zombie flicks. Now, we have seen a lot of good zombie movies, and a lot of bad ones. This BY FAR is the WORST movie I have ever seen in my entire life. Not only was the acting horrible, but the special effects, graphics and ever \"zombie\" make-up was the worst I have seen. If you can even call it make-up ( black eye shadow around the eyes) This is totally proof that you should never judge a book by it's cover. Cause the cover to the movie is the only sweet thing about. do your selves a favor and DO NOT WATCH THIS MOVIE!!!!!!!!!!!!!!!!!! I was so adamant about this movie I went as far as putting a sticky note on the inside of the movie before i returned it to movie saying \"This movie sucks, don't waste your time, return NOW\" hahahhaa I don't want anyone else to waste a good movie night on this POS movie! i don't even know how it got the ratings that it did, t should be in the negative</td>\n",
       "      <td>mt little sister and i are self proclaimed horror movie buff we have seen just about everything especially zombie flick now we have seen a lot of good zombie movie and a lot of bad one this by far is the worst movie i have ever seen in my entire life not only wa the acting horrible but the special effect graphic and ever zombie make up wa the worst i have seen if you can even call it make up black eye shadow around the eye this is totally proof that you should never judge a book by it s cover cause the cover to the movie is the only sweet thing about do your self a favor and do not watch this movie i wa so adamant about this movie i went a far a putting a sticky note on the inside of the movie before i returned it to movie saying this movie suck don t waste your time return now hahahhaa i don t want anyone else to waste a good movie night on this po movie i don t even know how it got the rating that it did t should be in the negative</td>\n",
       "    </tr>\n",
       "    <tr>\n",
       "      <th>8222</th>\n",
       "      <td>6150_7.txt</td>\n",
       "      <td>1</td>\n",
       "      <td>I have personally seen many Disney movies in my lifetime, though absolutely none of them match up in any way to Bedknobs and Broomsticks. Although I personally wouldn't have crossed live-action with animation, it was an improvement on trying to dress people up as animation characters. The movie pits three evacuees from world war two who are sent to stay with a silent and socially awkward woman in the country. I would have to say that the casting was brilliant. Angela Landsbury made a perfect Miss Price, while David Thomilson made a great desperate entertainer love interest. Endings always surprise me and this was no exception. It was neither happy nor sad, though I do not know if this was intentional. The dialog wasn't great, but considering it was designed to be a kid's movie, that is alright. Overall, I would give the performance nine out of ten, the dialog six out of ten, the casting nine out of ten and the costumes eight out of ten.</td>\n",
       "      <td>i have personally seen many disney movie in my lifetime though absolutely none of them match up in any way to bedknobs and broomstick although i personally wouldn t have crossed live action with animation it wa an improvement on trying to dress people up a animation character the movie pit three evacuee from world war two who are sent to stay with a silent and socially awkward woman in the country i would have to say that the casting wa brilliant angela landsbury made a perfect miss price while david thomilson made a great desperate entertainer love interest ending always surprise me and this wa no exception it wa neither happy nor sad though i do not know if this wa intentional the dialog wasn t great but considering it wa designed to be a kid s movie that is alright overall i would give the performance nine out of ten the dialog six out of ten the casting nine out of ten and the costume eight out of ten</td>\n",
       "    </tr>\n",
       "  </tbody>\n",
       "</table>\n",
       "</div>"
      ],
      "text/plain": [
       "              file  label  \\\n",
       "21492  6844_1.txt   0       \n",
       "9488   7290_10.txt  1       \n",
       "16933  2740_1.txt   0       \n",
       "12604  10094_1.txt  0       \n",
       "8222   6150_7.txt   1       \n",
       "\n",
       "                                                                                                                                                                                                                                                                                                                                                                                                                                                                                                                                                                                                                                                                                                                                                                                                                                                                                                                                                                                                                                                                                                                                                                                                                                                                                                                                                                                                                                                                                                                                                                                                                                                                                                                                                                                                                                                                                                                                                                                                                                                                                                                                                                                                                                                                                                                                                                                                                                                                                                                                                                                                                                                                                                                                                                                   review  \\\n",
       "21492  I have copy of this on VHS, I think they (The television networks) should play this every year for the next twenty years. So that we don't forget what was and that we remember not to do the same mistakes again. Like putting some people in the director's chair, where they don't belong. This movie Rappin' is like a vaudevillian musical, for those who can't sing, or act. This movie is as much fun as trying to teach the 'blind' to drive a city bus.<br /><br />John Hood, (Peebles) has just got out of prison and he's headed back to the old neighborhood. In serving time for an all-to-nice crime of necessity, of course. John heads back onto the old street and is greeted by kids dogs old ladies and his peer homeys as they dance and sing all along the way.<br /><br />I would recommend this if I was sentimental, or if in truth someone was smoking medicinal pot prescribed by a doctor for glaucoma. Either way this is a poorly directed, scripted, acted and even produced (I never thought I'd sat that) satire of ghetto life with the 'Hood'. Although, I think the redeeming part of the story, through the wannabe gang fight sequences and the dance numbers, his friends care about their neighbors and want to save the ghetto from being torn down and cleaned up. <br /><br />Forget Sonny spoon, Mario could have won an Oscar for that in comparison to this Rap. Oh well if you find yourself wanting to laugh yourself silly and three-quarters embarrassed, be sure to drink first. <br /><br />And please, watch responsibly. (No stars, better luck next time!)                                                                                                                                                                                                                                                                                                                                                                                                                                                                                                                                                                                                                                                                                                                                                                                                                                                                                                                                                                                                                                                                                                                                                                     \n",
       "9488   After several extremely well ratings to the point of SUPERB, I was extremely pleased with the film. The film was dark, moving, the anger, the pain, the guilt and a very extremely convincing demon.<br /><br />I had initially expected to see many special effects, and like a lover's caress, it blew me away with the subtlety and the rightness of it. Brian, I am again blown away with your artistry with the telling of the story and your care of the special effects. You will go a long way, my friend. I will definitely be the president of your fan club.<br /><br />Eric Etebari, the best actor award, was the number one choice. You made Jr. Lopez look like a child compared to Kasadya. :) <br /><br />Overall, the acting, story line, the high quality filming and awesome effects, it was fantastic. I just wish it were longer. I am looking forward to The Dreamless with extremely high expectations.                                                                                                                                                                                                                                                                                                                                                                                                                                                                                                                                                                                                                                                                                                                                                                                                                                                                                                                                                                                                                                                                                                                                                                                                                                                                                                                                                                                                                                                                                                                                                                                                                                                                                                                                                                                                                                                      \n",
       "16933  I still don't know why I forced myself to sit through the whole thing. This \"film\" wasn't worth the Memorex DVD-R it was burned on; I thought I was watching the end result of a group of middle schoolers stealing their parents' camcorder. This is by far the worst movie ever made. I truly, from the bottom of my heart, want to sue Aaron Yamasato for the two hours he stole from my life.<br /><br />So apparently, it's supposed to be bad on purpose; However, if you should end up in Hell and are forced to watch this 90-minute coil of doo-doo, you'll see that Yamasato is really trying hard to make an awesome flick. The actors attempt dramatic kick-ass performances comparable to Crimson Tide but come closer to The Marine.<br /><br />The crap acting is just the tip of the iceberg. The camera angles are awful. The story is C-movie at best-- the plot isn't even good enough to be considered B-movie caliber. The dialogue attempts to be dynamic and witty, but is crap like everything else. Rumor has it that a hard copy of the screenplay actually attracts flies. Plus, the techno score is annoying... not because it's techno, but because it's NON-STOP. That's right, the music plays in the background THE WHOLE TIME, acting as a subliminal reminder of how bad this thing is. I don't care what the disclaimer claims, I don't buy it. BOTS was not made this bad on purpose, because it takes itself WAY too serious for what it was: a joke.<br /><br />This \"film\" was very low-budget. But that is no excuse for its record-setting suck factor. Great films are born of substance, not budget. BOTS had neither.<br /><br />Allow me to further articulate the overwhelming power of this 90-minute waste of time: if I were having a three-way with Jessica Alba and Jessica Biel in front of a TV and Blood of the Samurai came on, I'd be out of there quicker than Steven Seagal in Executive Decision.<br /><br />Undoubtedly, some people will try to defend the movie. Two, maybe three. They'll say, \"it's grindhouse chop-socky!\" or \"cheesy in a good way!\" or \"it's so bad, it's good!\" Those people are idiots. A movie is either good, or it's bad. There's no such thing as a good bad movie. But there ARE such things as idiots that like crappy movies. Don't get me wrong; there are lots of cornball not-to-be-taken-seriously movies out there that are enjoyable and entertaining. Slither is one. BOTS is not.<br /><br />This suckfest runs about an hour and a half, and in my humble opinion, it's 90 minutes too long. The best thing about this \"film\" is the DVD cover, so next time you're near the Wal-Mart DVD bargain bin, take a look at it-- DON'T TOUCH IT, just look-- and quietly walk away.   \n",
       "12604  Mt little sister and I are self-proclaimed horror movie buffs. We have seen just about EVERYTHING, especially zombie flicks. Now, we have seen a lot of good zombie movies, and a lot of bad ones. This BY FAR is the WORST movie I have ever seen in my entire life. Not only was the acting horrible, but the special effects, graphics and ever \"zombie\" make-up was the worst I have seen. If you can even call it make-up ( black eye shadow around the eyes) This is totally proof that you should never judge a book by it's cover. Cause the cover to the movie is the only sweet thing about. do your selves a favor and DO NOT WATCH THIS MOVIE!!!!!!!!!!!!!!!!!! I was so adamant about this movie I went as far as putting a sticky note on the inside of the movie before i returned it to movie saying \"This movie sucks, don't waste your time, return NOW\" hahahhaa I don't want anyone else to waste a good movie night on this POS movie! i don't even know how it got the ratings that it did, t should be in the negative                                                                                                                                                                                                                                                                                                                                                                                                                                                                                                                                                                                                                                                                                                                                                                                                                                                                                                                                                                                                                                                                                                                                                                                                                                                                                                                                                                                                                                                                                                                                                                                                                                                                                                                                        \n",
       "8222   I have personally seen many Disney movies in my lifetime, though absolutely none of them match up in any way to Bedknobs and Broomsticks. Although I personally wouldn't have crossed live-action with animation, it was an improvement on trying to dress people up as animation characters. The movie pits three evacuees from world war two who are sent to stay with a silent and socially awkward woman in the country. I would have to say that the casting was brilliant. Angela Landsbury made a perfect Miss Price, while David Thomilson made a great desperate entertainer love interest. Endings always surprise me and this was no exception. It was neither happy nor sad, though I do not know if this was intentional. The dialog wasn't great, but considering it was designed to be a kid's movie, that is alright. Overall, I would give the performance nine out of ten, the dialog six out of ten, the casting nine out of ten and the costumes eight out of ten.                                                                                                                                                                                                                                                                                                                                                                                                                                                                                                                                                                                                                                                                                                                                                                                                                                                                                                                                                                                                                                                                                                                                                                                                                                                                                                                                                                                                                                                                                                                                                                                                                                                                                                                                                                                               \n",
       "\n",
       "                                                                                                                                                                                                                                                                                                                                                                                                                                                                                                                                                                                                                                                                                                                                                                                                                                                                                                                                                                                                                                                                                                                                                                                                                                                                                                                                                                                                                                                                                                                                                                                                                                                                                                                                                                                                                                                                                                                                                                                                                                                                                                                                                                                                                                                                                                                                                                                                                                                                                                                                                                                                               clean_review  \n",
       "21492  i have copy of this on vhs i think they the television network should play this every year for the next twenty year so that we don t forget what wa and that we remember not to do the same mistake again like putting some people in the director s chair where they don t belong this movie rappin is like a vaudevillian musical for those who can t sing or act this movie is a much fun a trying to teach the blind to drive a city bus br br john hood peebles ha just got out of prison and he s headed back to the old neighborhood in serving time for an all to nice crime of necessity of course john head back onto the old street and is greeted by kid dog old lady and his peer homeys a they dance and sing all along the way br br i would recommend this if i wa sentimental or if in truth someone wa smoking medicinal pot prescribed by a doctor for glaucoma either way this is a poorly directed scripted acted and even produced i never thought i d sat that satire of ghetto life with the hood although i think the redeeming part of the story through the wannabe gang fight sequence and the dance number his friend care about their neighbor and want to save the ghetto from being torn down and cleaned up br br forget sonny spoon mario could have won an oscar for that in comparison to this rap oh well if you find yourself wanting to laugh yourself silly and three quarter embarrassed be sure to drink first br br and please watch responsibly no star better luck next time                                                                                                                                                                                                                                                                                                                                                                                                                                                                                                                                                                                                                                                                                                                                                                                                                                                                                                                                                                                                                                                                                             \n",
       "9488   after several extremely well rating to the point of superb i wa extremely pleased with the film the film wa dark moving the anger the pain the guilt and a very extremely convincing demon br br i had initially expected to see many special effect and like a lover s caress it blew me away with the subtlety and the rightness of it brian i am again blown away with your artistry with the telling of the story and your care of the special effect you will go a long way my friend i will definitely be the president of your fan club br br eric etebari the best actor award wa the number one choice you made jr lopez look like a child compared to kasadya br br overall the acting story line the high quality filming and awesome effect it wa fantastic i just wish it were longer i am looking forward to the dreamless with extremely high expectation                                                                                                                                                                                                                                                                                                                                                                                                                                                                                                                                                                                                                                                                                                                                                                                                                                                                                                                                                                                                                                                                                                                                                                                                                                                                                                                                                                                                                                                                                                                                                                                                                                                                                                                                              \n",
       "16933  i still don t know why i forced myself to sit through the whole thing this film wasn t worth the memorex dvd r it wa burned on i thought i wa watching the end result of a group of middle schoolers stealing their parent camcorder this is by far the worst movie ever made i truly from the bottom of my heart want to sue aaron yamasato for the two hour he stole from my life br br so apparently it s supposed to be bad on purpose however if you should end up in hell and are forced to watch this minute coil of doo doo you ll see that yamasato is really trying hard to make an awesome flick the actor attempt dramatic kick as performance comparable to crimson tide but come closer to the marine br br the crap acting is just the tip of the iceberg the camera angle are awful the story is c movie at best the plot isn t even good enough to be considered b movie caliber the dialogue attempt to be dynamic and witty but is crap like everything else rumor ha it that a hard copy of the screenplay actually attracts fly plus the techno score is annoying not because it s techno but because it s non stop that s right the music play in the background the whole time acting a a subliminal reminder of how bad this thing is i don t care what the disclaimer claim i don t buy it bot wa not made this bad on purpose because it take itself way too serious for what it wa a joke br br this film wa very low budget but that is no excuse for it record setting suck factor great film are born of substance not budget bot had neither br br allow me to further articulate the overwhelming power of this minute waste of time if i were having a three way with jessica alba and jessica biel in front of a tv and blood of the samurai came on i d be out of there quicker than steven seagal in executive decision br br undoubtedly some people will try to defend the movie two maybe three they ll say it s grindhouse chop socky or cheesy in a good way or it s so bad it s good those people are idiot a movie is either good or it s bad there s no such thing a a good bad movie but there are such thing a idiot that like crappy movie don t get me wrong there are lot of cornball not to be taken seriously movie out there that are enjoyable and entertaining slither is one bot is not br br this suckfest run about an hour and a half and in my humble opinion it s minute too long the best thing about this film is the dvd cover so next time you re near the wal mart dvd bargain bin take a look at it don t touch it just look and quietly walk away  \n",
       "12604  mt little sister and i are self proclaimed horror movie buff we have seen just about everything especially zombie flick now we have seen a lot of good zombie movie and a lot of bad one this by far is the worst movie i have ever seen in my entire life not only wa the acting horrible but the special effect graphic and ever zombie make up wa the worst i have seen if you can even call it make up black eye shadow around the eye this is totally proof that you should never judge a book by it s cover cause the cover to the movie is the only sweet thing about do your self a favor and do not watch this movie i wa so adamant about this movie i went a far a putting a sticky note on the inside of the movie before i returned it to movie saying this movie suck don t waste your time return now hahahhaa i don t want anyone else to waste a good movie night on this po movie i don t even know how it got the rating that it did t should be in the negative                                                                                                                                                                                                                                                                                                                                                                                                                                                                                                                                                                                                                                                                                                                                                                                                                                                                                                                                                                                                                                                                                                                                                                                                                                                                                                                                                                                                                                                                                                                                                                                                                                   \n",
       "8222   i have personally seen many disney movie in my lifetime though absolutely none of them match up in any way to bedknobs and broomstick although i personally wouldn t have crossed live action with animation it wa an improvement on trying to dress people up a animation character the movie pit three evacuee from world war two who are sent to stay with a silent and socially awkward woman in the country i would have to say that the casting wa brilliant angela landsbury made a perfect miss price while david thomilson made a great desperate entertainer love interest ending always surprise me and this wa no exception it wa neither happy nor sad though i do not know if this wa intentional the dialog wasn t great but considering it wa designed to be a kid s movie that is alright overall i would give the performance nine out of ten the dialog six out of ten the casting nine out of ten and the costume eight out of ten                                                                                                                                                                                                                                                                                                                                                                                                                                                                                                                                                                                                                                                                                                                                                                                                                                                                                                                                                                                                                                                                                                                                                                                                                                                                                                                                                                                                                                                                                                                                                                                                                                                                "
      ]
     },
     "execution_count": 6,
     "metadata": {},
     "output_type": "execute_result"
    }
   ],
   "source": [
    "reviews['clean_review']=clean_review(reviews['review'].values)\n",
    "reviews.head()"
   ]
  },
  {
   "cell_type": "code",
   "execution_count": 7,
   "metadata": {},
   "outputs": [],
   "source": [
    "all_sentences=reviews.clean_review.values\n",
    "target=reviews.label.values\n",
    "y=to_categorical(target)\n",
    "#y=target"
   ]
  },
  {
   "cell_type": "code",
   "execution_count": 8,
   "metadata": {},
   "outputs": [
    {
     "name": "stdout",
     "output_type": "stream",
     "text": [
      "(20000,) (20000, 2)\n",
      "(5000,) (5000, 2)\n"
     ]
    }
   ],
   "source": [
    "X_train_text,X_test_text,y_train,y_test=train_test_split(all_sentences,y,test_size=0.2,stratify=y,random_state=123)\n",
    "print(X_train_text.shape,y_train.shape)\n",
    "print(X_test_text.shape,y_test.shape)"
   ]
  },
  {
   "cell_type": "code",
   "execution_count": 9,
   "metadata": {},
   "outputs": [
    {
     "data": {
      "text/plain": [
       "1867"
      ]
     },
     "execution_count": 9,
     "metadata": {},
     "output_type": "execute_result"
    }
   ],
   "source": [
    "all_words=' '.join(X_train_text)\n",
    "all_words=word_tokenize(all_words)\n",
    "dist=FreqDist(all_words)\n",
    "num_unique_word=len(dist)\n",
    "num_unique_word\n",
    "\n",
    "r_len=[]\n",
    "for text in X_train_text:\n",
    "    word=word_tokenize(text)\n",
    "    l=len(word)\n",
    "    r_len.append(l)\n",
    "    \n",
    "MAX_REVIEW_LEN=np.max(r_len)\n",
    "MAX_REVIEW_LEN"
   ]
  },
  {
   "cell_type": "code",
   "execution_count": 10,
   "metadata": {},
   "outputs": [],
   "source": [
    "max_features = num_unique_word\n",
    "max_words = MAX_REVIEW_LEN\n",
    "batch_size = 128\n",
    "epochs = 3\n",
    "num_classes=2"
   ]
  },
  {
   "cell_type": "code",
   "execution_count": 11,
   "metadata": {},
   "outputs": [],
   "source": [
    "tokenizer = Tokenizer(num_words=max_features)\n",
    "tokenizer.fit_on_texts(list(X_train_text))\n",
    "X_train = tokenizer.texts_to_sequences(X_train_text)\n",
    "X_test = tokenizer.texts_to_sequences(X_test_text)\n",
    "#X_test = tokenizer.texts_to_sequences(test_text)"
   ]
  },
  {
   "cell_type": "code",
   "execution_count": 12,
   "metadata": {},
   "outputs": [
    {
     "name": "stdout",
     "output_type": "stream",
     "text": [
      "(20000, 1867) (5000, 1867)\n"
     ]
    }
   ],
   "source": [
    "X_train = sequence.pad_sequences(X_train, maxlen=max_words)\n",
    "X_test = sequence.pad_sequences(X_test, maxlen=max_words)\n",
    "#X_test = sequence.pad_sequences(X_test, maxlen=max_words)\n",
    "print(X_train.shape,X_test.shape)"
   ]
  },
  {
   "cell_type": "code",
   "execution_count": 13,
   "metadata": {},
   "outputs": [],
   "source": [
    "def get_coefs(word, *arr):\n",
    "    return word, np.asarray(arr, dtype='float32')\n",
    "    \n",
    "def get_embed_mat(EMBEDDING_FILE, max_features,embed_dim):\n",
    "    # word vectors\n",
    "    embeddings_index = dict(get_coefs(*o.rstrip().rsplit(' ')) for o in open(EMBEDDING_FILE, encoding='utf8'))\n",
    "    print('Found %s word vectors.' % len(embeddings_index))\n",
    "\n",
    "    # embedding matrix\n",
    "    word_index = tokenizer.word_index\n",
    "    num_words = min(max_features, len(word_index) + 1)\n",
    "    all_embs = np.stack(embeddings_index.values()) #for random init\n",
    "    embedding_matrix = np.random.normal(all_embs.mean(), all_embs.std(), \n",
    "                                        (num_words, embed_dim))\n",
    "    for word, i in word_index.items():\n",
    "        if i >= max_features:\n",
    "            continue\n",
    "        embedding_vector = embeddings_index.get(word)\n",
    "        if embedding_vector is not None:\n",
    "            embedding_matrix[i] = embedding_vector\n",
    "    max_features = embedding_matrix.shape[0]\n",
    "    \n",
    "    return embedding_matrix"
   ]
  },
  {
   "cell_type": "code",
   "execution_count": 14,
   "metadata": {},
   "outputs": [
    {
     "name": "stdout",
     "output_type": "stream",
     "text": [
      "Found 400000 word vectors.\n",
      "(60001, 100)\n"
     ]
    }
   ],
   "source": [
    "EMBEDDING_FILE = 'glove.6B.100d.txt'\n",
    "embed_dim = 100 #word vector dim\n",
    "embedding_matrix = get_embed_mat(EMBEDDING_FILE,max_features,embed_dim)\n",
    "print(embedding_matrix.shape)"
   ]
  },
  {
   "cell_type": "code",
   "execution_count": 15,
   "metadata": {},
   "outputs": [
    {
     "data": {
      "text/plain": [
       "(60001, 100)"
      ]
     },
     "execution_count": 15,
     "metadata": {},
     "output_type": "execute_result"
    }
   ],
   "source": [
    "embedding_matrix.shape"
   ]
  },
  {
   "cell_type": "code",
   "execution_count": 16,
   "metadata": {},
   "outputs": [
    {
     "name": "stdout",
     "output_type": "stream",
     "text": [
      "_________________________________________________________________\n",
      "Layer (type)                 Output Shape              Param #   \n",
      "=================================================================\n",
      "embedding_1 (Embedding)      (None, 1867, 100)         6000100   \n",
      "_________________________________________________________________\n",
      "spatial_dropout1d_1 (Spatial (None, 1867, 100)         0         \n",
      "_________________________________________________________________\n",
      "bidirectional_1 (Bidirection (None, 1867, 256)         235520    \n",
      "_________________________________________________________________\n",
      "bidirectional_2 (Bidirection (None, 128)               164864    \n",
      "_________________________________________________________________\n",
      "dropout_1 (Dropout)          (None, 128)               0         \n",
      "_________________________________________________________________\n",
      "dense_1 (Dense)              (None, 2)                 258       \n",
      "=================================================================\n",
      "Total params: 6,400,742\n",
      "Trainable params: 400,642\n",
      "Non-trainable params: 6,000,100\n",
      "_________________________________________________________________\n"
     ]
    }
   ],
   "source": [
    "model2 = Sequential()\n",
    "model2.add(Embedding(max_features, embed_dim, input_length=X_train.shape[1],weights=[embedding_matrix],trainable=False))\n",
    "model2.add(SpatialDropout1D(0.25))\n",
    "model2.add(Bidirectional(CuDNNLSTM(128,return_sequences=True)))\n",
    "model2.add(Bidirectional(CuDNNLSTM(64,return_sequences=False)))\n",
    "model2.add(Dropout(0.5))\n",
    "model2.add(Dense(num_classes, activation='softmax'))\n",
    "model2.compile(loss='categorical_crossentropy', optimizer='adam', metrics=['accuracy'])\n",
    "model2.summary()"
   ]
  },
  {
   "cell_type": "code",
   "execution_count": 17,
   "metadata": {},
   "outputs": [
    {
     "name": "stdout",
     "output_type": "stream",
     "text": [
      "Train on 16000 samples, validate on 4000 samples\n",
      "Epoch 1/10\n",
      "16000/16000 [==============================] - 98s 6ms/step - loss: 0.6625 - acc: 0.5971 - val_loss: 0.6119 - val_acc: 0.6815\n",
      "Epoch 2/10\n",
      "16000/16000 [==============================] - 113s 7ms/step - loss: 0.5935 - acc: 0.6901 - val_loss: 0.4968 - val_acc: 0.7715\n",
      "Epoch 3/10\n",
      "16000/16000 [==============================] - 115s 7ms/step - loss: 0.5231 - acc: 0.7520 - val_loss: 0.4445 - val_acc: 0.8105\n",
      "Epoch 4/10\n",
      "16000/16000 [==============================] - 114s 7ms/step - loss: 0.4453 - acc: 0.7998 - val_loss: 0.3867 - val_acc: 0.8315\n",
      "Epoch 5/10\n",
      "16000/16000 [==============================] - 115s 7ms/step - loss: 0.4092 - acc: 0.8187 - val_loss: 0.3828 - val_acc: 0.8377\n",
      "Epoch 6/10\n",
      "16000/16000 [==============================] - 103s 6ms/step - loss: 0.3892 - acc: 0.8323 - val_loss: 0.3583 - val_acc: 0.8450\n",
      "Epoch 7/10\n",
      "16000/16000 [==============================] - 109s 7ms/step - loss: 0.3701 - acc: 0.8429 - val_loss: 0.3378 - val_acc: 0.8550\n",
      "Epoch 8/10\n",
      "16000/16000 [==============================] - 113s 7ms/step - loss: 0.3568 - acc: 0.8484 - val_loss: 0.3376 - val_acc: 0.8562\n",
      "Epoch 9/10\n",
      "16000/16000 [==============================] - 114s 7ms/step - loss: 0.3497 - acc: 0.8504 - val_loss: 0.3262 - val_acc: 0.8625\n",
      "Epoch 10/10\n",
      "16000/16000 [==============================] - 112s 7ms/step - loss: 0.3353 - acc: 0.8563 - val_loss: 0.3100 - val_acc: 0.8690\n"
     ]
    }
   ],
   "source": [
    "history = model2.fit(X_train, y_train,\n",
    "                    epochs=10,\n",
    "                    verbose=True,\n",
    "                    validation_split=0.2,\n",
    "                    #validation_data=(X_val, y_val),\n",
    "                    batch_size=128)"
   ]
  },
  {
   "cell_type": "code",
   "execution_count": 18,
   "metadata": {},
   "outputs": [
    {
     "name": "stdout",
     "output_type": "stream",
     "text": [
      "5000/5000 [==============================] - 39s 8ms/step\n",
      "testing Accuracy: 0.8610\n"
     ]
    }
   ],
   "source": [
    "loss, accuracy = model2.evaluate(X_test, y_test)\n",
    "print(\"testing Accuracy: {:.4f}\".format(accuracy))"
   ]
  },
  {
   "cell_type": "code",
   "execution_count": 19,
   "metadata": {},
   "outputs": [],
   "source": [
    "import matplotlib.pyplot as plt\n",
    "plt.style.use('ggplot')\n",
    "\n",
    "def plot_history(history):\n",
    "    acc = history.history['acc']\n",
    "    val_acc = history.history['val_acc']\n",
    "    loss = history.history['loss']\n",
    "    val_loss = history.history['val_loss']\n",
    "    x = range(1, len(acc) + 1)\n",
    "\n",
    "    plt.figure(figsize=(12, 5))\n",
    "    plt.subplot(1, 2, 1)\n",
    "    plt.plot(x, acc, 'b', label='Training acc')\n",
    "    plt.plot(x, val_acc, 'r', label='Validation acc')\n",
    "    plt.title('Training and validation accuracy')\n",
    "    plt.legend()\n",
    "    plt.subplot(1, 2, 2)\n",
    "    plt.plot(x, loss, 'b', label='Training loss')\n",
    "    plt.plot(x, val_loss, 'r', label='Validation loss')\n",
    "    plt.title('Training and validation loss')\n",
    "    plt.legend()"
   ]
  },
  {
   "cell_type": "code",
   "execution_count": 20,
   "metadata": {},
   "outputs": [
    {
     "data": {
      "image/png": "[encoded data removed]",
      "text/plain": [
       "<matplotlib.figure.Figure at 0x54a1a828>"
      ]
     },
     "metadata": {},
     "output_type": "display_data"
    }
   ],
   "source": [
    "\n",
    "plot_history(history)"
   ]
  },
  {
   "cell_type": "code",
   "execution_count": null,
   "metadata": {},
   "outputs": [],
   "source": [
    "## save model\n",
    "import pickle\n",
    "filename = 'Word2Vec_RNN.sav'\n",
    "pickle.dump(model2, open(filename, 'wb'))\n",
    "\n"
   ]
  },
  {
   "cell_type": "code",
   "execution_count": null,
   "metadata": {},
   "outputs": [],
   "source": [
    "# load the model from disk\n",
    "loaded_model = pickle.load(open(filename, 'rb'))\n"
   ]
  },
  {
   "cell_type": "code",
   "execution_count": null,
   "metadata": {},
   "outputs": [],
   "source": []
  },
  {
   "cell_type": "code",
   "execution_count": null,
   "metadata": {},
   "outputs": [],
   "source": [
    "plot_history(history)"
   ]
  },
  {
   "cell_type": "code",
   "execution_count": null,
   "metadata": {},
   "outputs": [],
   "source": []
  }
 ],
 "metadata": {
  "kernelspec": {
   "display_name": "Python 3",
   "language": "python",
   "name": "python3"
  },
  "language_info": {
   "codemirror_mode": {
    "name": "ipython",
    "version": 3
   },
   "file_extension": ".py",
   "mimetype": "text/x-python",
   "name": "python",
   "nbconvert_exporter": "python",
   "pygments_lexer": "ipython3",
   "version": "3.6.5"
  }
 },
 "nbformat": 4,
 "nbformat_minor": 2
}
